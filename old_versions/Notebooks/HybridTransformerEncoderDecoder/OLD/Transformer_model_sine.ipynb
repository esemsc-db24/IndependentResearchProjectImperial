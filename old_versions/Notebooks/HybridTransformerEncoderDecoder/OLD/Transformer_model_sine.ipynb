{
 "cells": [
  {
   "cell_type": "markdown",
   "id": "490e2c61",
   "metadata": {},
   "source": [
    "# Transformer Model!\n",
    "## Needs:\n"
   ]
  },
  {
   "cell_type": "code",
   "execution_count": 1,
   "id": "f5026254",
   "metadata": {},
   "outputs": [],
   "source": [
    "## imports \n",
    "import torch\n",
    "import torch.nn as nn\n",
    "import torch.optim as optim\n",
    "import torch.utils.data as data\n",
    "import math\n",
    "import copy\n",
    "import numpy as np\n",
    "import pandas as pd"
   ]
  },
  {
   "cell_type": "code",
   "execution_count": 2,
   "id": "6f0c8957",
   "metadata": {},
   "outputs": [],
   "source": [
    "## The building blocks of a transformer are:\n",
    "# 1. Multi-head self-attention\n",
    "# 2. Feedforward neural network\n",
    "# 3. Positional Encoding\n",
    "# 4. Layer normalization\n",
    "# 5. Residual connections\n",
    "# 6. Dropout"
   ]
  },
  {
   "cell_type": "markdown",
   "id": "b7aabb4d",
   "metadata": {},
   "source": [
    "## INHALE TRANSFORMER VARIATIONAL AUTOENCODER"
   ]
  },
  {
   "cell_type": "code",
   "execution_count": null,
   "id": "639c8cf6",
   "metadata": {},
   "outputs": [],
   "source": []
  }
 ],
 "metadata": {
  "kernelspec": {
   "display_name": "pers_health",
   "language": "python",
   "name": "python3"
  },
  "language_info": {
   "codemirror_mode": {
    "name": "ipython",
    "version": 3
   },
   "file_extension": ".py",
   "mimetype": "text/x-python",
   "name": "python",
   "nbconvert_exporter": "python",
   "pygments_lexer": "ipython3",
   "version": "3.10.18"
  }
 },
 "nbformat": 4,
 "nbformat_minor": 5
}
